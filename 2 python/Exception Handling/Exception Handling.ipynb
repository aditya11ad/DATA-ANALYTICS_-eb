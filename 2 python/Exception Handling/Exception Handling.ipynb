{
 "cells": [
  {
   "cell_type": "code",
   "execution_count": 1,
   "metadata": {},
   "outputs": [
    {
     "data": {
      "text/plain": [
       "2.4"
      ]
     },
     "execution_count": 1,
     "metadata": {},
     "output_type": "execute_result"
    }
   ],
   "source": [
    "12/5"
   ]
  },
  {
   "cell_type": "markdown",
   "metadata": {},
   "source": [
    "#### Exception:"
   ]
  },
  {
   "cell_type": "code",
   "execution_count": 37,
   "metadata": {},
   "outputs": [
    {
     "ename": "ZeroDivisionError",
     "evalue": "division by zero",
     "output_type": "error",
     "traceback": [
      "\u001b[1;31m---------------------------------------------------------------------------\u001b[0m",
      "\u001b[1;31mZeroDivisionError\u001b[0m                         Traceback (most recent call last)",
      "\u001b[1;32m<ipython-input-37-898e9759c56e>\u001b[0m in \u001b[0;36m<module>\u001b[1;34m\u001b[0m\n\u001b[1;32m----> 1\u001b[1;33m \u001b[1;36m12\u001b[0m\u001b[1;33m/\u001b[0m\u001b[1;36m0\u001b[0m\u001b[1;33m\u001b[0m\u001b[1;33m\u001b[0m\u001b[0m\n\u001b[0m",
      "\u001b[1;31mZeroDivisionError\u001b[0m: division by zero"
     ]
    }
   ],
   "source": [
    "12/0"
   ]
  },
  {
   "cell_type": "markdown",
   "metadata": {},
   "source": [
    "### Exception handling:"
   ]
  },
  {
   "cell_type": "code",
   "execution_count": 108,
   "metadata": {},
   "outputs": [],
   "source": [
    "a=12\n",
    "b=2"
   ]
  },
  {
   "cell_type": "code",
   "execution_count": 109,
   "metadata": {},
   "outputs": [
    {
     "name": "stdout",
     "output_type": "stream",
     "text": [
      "c: 6.0\n"
     ]
    }
   ],
   "source": [
    "try:\n",
    "    c=a/b\n",
    "\n",
    "except ZeroDivisionError:\n",
    "    print(\"plz don't devide by zero!!!!\")\n",
    "print(\"c:\",c)"
   ]
  },
  {
   "cell_type": "code",
   "execution_count": 110,
   "metadata": {},
   "outputs": [],
   "source": [
    "a=12\n",
    "b=0"
   ]
  },
  {
   "cell_type": "code",
   "execution_count": 111,
   "metadata": {},
   "outputs": [
    {
     "name": "stdout",
     "output_type": "stream",
     "text": [
      "plz don't devide by zero!!!!\n",
      "c: 6.0\n"
     ]
    }
   ],
   "source": [
    "try:\n",
    "    c=a/b\n",
    "except ZeroDivisionError:\n",
    "    print(\"plz don't devide by zero!!!!\")\n",
    "print(\"c:\",c)"
   ]
  },
  {
   "cell_type": "code",
   "execution_count": 93,
   "metadata": {},
   "outputs": [],
   "source": [
    "a=12\n",
    "b=0"
   ]
  },
  {
   "cell_type": "code",
   "execution_count": 112,
   "metadata": {},
   "outputs": [
    {
     "name": "stdout",
     "output_type": "stream",
     "text": [
      "plz don't devide by zero!!!!\n"
     ]
    }
   ],
   "source": [
    "try:\n",
    "    c=a/b\n",
    "except ZeroDivisionError:\n",
    "    print(\"plz don't devide by zero!!!!\")\n",
    "else:\n",
    "    print(\"c:\",c)"
   ]
  },
  {
   "cell_type": "code",
   "execution_count": null,
   "metadata": {},
   "outputs": [],
   "source": []
  },
  {
   "cell_type": "code",
   "execution_count": 50,
   "metadata": {},
   "outputs": [],
   "source": [
    "a=12\n",
    "b=3"
   ]
  },
  {
   "cell_type": "code",
   "execution_count": 51,
   "metadata": {},
   "outputs": [
    {
     "name": "stdout",
     "output_type": "stream",
     "text": [
      "c: 4.0\n"
     ]
    }
   ],
   "source": [
    "try:\n",
    "    c=a/b\n",
    "except ZeroDivisionError:\n",
    "    print(\"plz don't devide by zero!!!!\")\n",
    "else:\n",
    "    print(\"c:\",c)"
   ]
  },
  {
   "cell_type": "code",
   "execution_count": null,
   "metadata": {},
   "outputs": [],
   "source": []
  },
  {
   "cell_type": "code",
   "execution_count": 54,
   "metadata": {},
   "outputs": [
    {
     "name": "stdout",
     "output_type": "stream",
     "text": [
      "12\n",
      "0\n"
     ]
    }
   ],
   "source": [
    "a=int(input())\n",
    "b=int(input())"
   ]
  },
  {
   "cell_type": "code",
   "execution_count": 55,
   "metadata": {},
   "outputs": [
    {
     "name": "stdout",
     "output_type": "stream",
     "text": [
      "plz don't devide by zero!!!!\n"
     ]
    }
   ],
   "source": [
    "try:\n",
    "    c=a/b\n",
    "except ZeroDivisionError:\n",
    "    print(\"plz don't devide by zero!!!!\")\n",
    "else:\n",
    "    print(\"c:\",c)"
   ]
  },
  {
   "cell_type": "code",
   "execution_count": null,
   "metadata": {},
   "outputs": [],
   "source": []
  },
  {
   "cell_type": "code",
   "execution_count": 70,
   "metadata": {
    "scrolled": true
   },
   "outputs": [
    {
     "name": "stdout",
     "output_type": "stream",
     "text": [
      "12\n",
      "b: q\n"
     ]
    }
   ],
   "source": [
    "while True:\n",
    "    a=input(\"a: \")\n",
    "    if a=='q':\n",
    "        break\n",
    "    b=input(\"b: \")\n",
    "    if b=='q':\n",
    "        break\n",
    "    \n",
    "    try:\n",
    "        c=int(a)/int(b)\n",
    "    except ZeroDivisionError:\n",
    "        print(\"plz don't devide by zero!!!!\\n\")\n",
    "    else:\n",
    "        print(\"c:\",c,\"\\n\")\n",
    "    print('Press\"q\" to quit')\n",
    "     "
   ]
  },
  {
   "cell_type": "code",
   "execution_count": 90,
   "metadata": {
    "scrolled": true
   },
   "outputs": [
    {
     "name": "stdout",
     "output_type": "stream",
     "text": [
      "a: 12\n",
      "b: 3\n",
      "c: 4.0 \n",
      "\n",
      "Press\"q\" to quit\n",
      "a: 12\n",
      "b: 0\n",
      "plz don't devide by zero!!!!\n",
      "\n",
      "Press\"q\" to quit\n",
      "a: 12\n",
      "b: h\n",
      "plz pass numbers only\n",
      "Press\"q\" to quit\n",
      "a: q\n"
     ]
    }
   ],
   "source": [
    "while True:\n",
    "    a=input(\"a: \")\n",
    "    if a=='q':\n",
    "        break\n",
    "    b=input(\"b: \")\n",
    "    if b=='q':\n",
    "        break\n",
    "    \n",
    "    try:\n",
    "        c=int(a)/int(b)\n",
    "    except ZeroDivisionError:\n",
    "        print(\"plz don't devide by zero!!!!\\n\")\n",
    "    except ValueError:\n",
    "        print(\"plz pass numbers only\")\n",
    "    else:\n",
    "        print(\"c:\",c,\"\\n\")\n",
    "    print('Press\"q\" to quit')\n",
    "     "
   ]
  },
  {
   "cell_type": "code",
   "execution_count": 92,
   "metadata": {
    "scrolled": true
   },
   "outputs": [
    {
     "name": "stdout",
     "output_type": "stream",
     "text": [
      "a: 12\n",
      "b: 0\n",
      "U did somthing wrong\n",
      "Press\"q\" to quit\n",
      "a: 12\n",
      "b: g\n",
      "U did somthing wrong\n",
      "Press\"q\" to quit\n",
      "a: q\n"
     ]
    }
   ],
   "source": [
    "while True:\n",
    "    a=input(\"a: \")\n",
    "    if a=='q':\n",
    "        break\n",
    "    b=input(\"b: \")\n",
    "    if b=='q':\n",
    "        break\n",
    "    \n",
    "    try:\n",
    "        c=int(a)/int(b)\n",
    "    except Exception:\n",
    "        print(\"U did somthing wrong\")\n",
    "    else:\n",
    "        print(\"c:\",c,\"\\n\")\n",
    "    print('Press\"q\" to quit')\n",
    "     "
   ]
  },
  {
   "cell_type": "code",
   "execution_count": null,
   "metadata": {},
   "outputs": [],
   "source": []
  },
  {
   "cell_type": "code",
   "execution_count": null,
   "metadata": {},
   "outputs": [],
   "source": []
  },
  {
   "cell_type": "code",
   "execution_count": null,
   "metadata": {},
   "outputs": [],
   "source": []
  },
  {
   "cell_type": "code",
   "execution_count": 81,
   "metadata": {},
   "outputs": [
    {
     "name": "stdout",
     "output_type": "stream",
     "text": [
      "12\n",
      "0\n",
      "plz don't devide by zero!!!!\n"
     ]
    }
   ],
   "source": [
    "try:\n",
    "    a=int(input())\n",
    "    b=int(input())\n",
    "except ValueError:\n",
    "    print(\"plz enter only numbers\")\n",
    "\n",
    "try:\n",
    "    c=a/b\n",
    "except ZeroDivisionError:\n",
    "    print(\"plz don't devide by zero!!!!\")\n",
    "else:\n",
    "    print(\"c:\",c)"
   ]
  },
  {
   "cell_type": "code",
   "execution_count": 89,
   "metadata": {},
   "outputs": [
    {
     "name": "stdout",
     "output_type": "stream",
     "text": [
      "12\n",
      "d\n",
      "plz enter only numbers\n"
     ]
    }
   ],
   "source": [
    "try:\n",
    "    a=int(input())\n",
    "    b=int(input())\n",
    "    c=a/b\n",
    "except ZeroDivisionError:\n",
    "    print(\"plz don't devide by zero!!!!\")\n",
    "except ValueError:\n",
    "    print(\"plz enter only numbers\")\n",
    "else:\n",
    "    print(\"c:\",c)"
   ]
  },
  {
   "cell_type": "code",
   "execution_count": null,
   "metadata": {},
   "outputs": [],
   "source": []
  },
  {
   "cell_type": "code",
   "execution_count": 124,
   "metadata": {},
   "outputs": [
    {
     "name": "stdout",
     "output_type": "stream",
     "text": [
      "eneter the file namesr.txt\n",
      "\n",
      " The Shawshank Redemption is a 1994 American drama film written and directed by Frank Darabont, based on the 1982 Stephen King novella Rita Hayworth and Shawshank Redemption. It tells the story of banker Andy Dufresne (Tim Robbins), who is sentenced to life in Shawshank State Penitentiary for the murders of his wife and her lover, despite his claims of innocence. Over the following two decades, he befriends a fellow prisoner, contraband smuggler Ellis \"Red\" Redding (Morgan Freeman), and becomes instrumental in a money-laundering operation led by the prison warden Samuel Norton (Bob Gunton). William Sadler, Clancy Brown, Gil Bellows, and James Whitmore appear in supporting roles.\n",
      "\n",
      "Darabont purchased the film rights to King's story in 1987, but development did not begin until five years later, when he wrote the script over an eight-week period. Two weeks after submitting his script to Castle Rock Entertainment, Darabont secured a $25 million budget to produce The Shawshank Redemption, which started pre-production in January 1993. While the film is set in Maine, principal photography took place from June to August 1993 almost entirely in Mansfield, Ohio, with the Ohio State Reformatory serving as the eponymous penitentiary. The project attracted many stars of the time for the role of Andy, including Tom Hanks, Tom Cruise, and Kevin Costner. Thomas Newman provided the film's score. \n",
      "\n"
     ]
    }
   ],
   "source": [
    "a = input(\"eneter the file name\")\n",
    "\n",
    "try:\n",
    "    with open(a) as ob:\n",
    "        s= ob.read()\n",
    "except FileNotFoundError:\n",
    "    print(f\"file {a} doesn't exsists\")\n",
    "else:\n",
    "    print(\"\\n\",s,\"\\n\")"
   ]
  },
  {
   "cell_type": "code",
   "execution_count": 132,
   "metadata": {},
   "outputs": [
    {
     "name": "stdout",
     "output_type": "stream",
     "text": [
      "eneter the file namesr.txt\n",
      "There are 1399 letters in sr.txt file\n",
      "There are 219 words in sr.txt file\n"
     ]
    }
   ],
   "source": [
    "a = input(\"eneter the file name\")\n",
    "\n",
    "try:\n",
    "    with open(a) as ob:\n",
    "        s= ob.read()\n",
    "except FileNotFoundError:\n",
    "    print(f\"file {a} doesn't exsists\")\n",
    "else:\n",
    "    print(f\"There are {len(s)} letters in {a} file\")\n",
    "    \n",
    "    words= s.split()\n",
    "    print(f\"There are {len(words)} words in {a} file\")\n",
    "    "
   ]
  },
  {
   "cell_type": "code",
   "execution_count": 137,
   "metadata": {},
   "outputs": [
    {
     "name": "stdout",
     "output_type": "stream",
     "text": [
      "eneter the file namesr.txt\n",
      "there are 3 lines in sr.txt file\n"
     ]
    }
   ],
   "source": [
    "a = input(\"eneter the file name\")\n",
    "\n",
    "try:\n",
    "    with open(a) as ob:\n",
    "        lines= ob.readlines()\n",
    "except FileNotFoundError:\n",
    "    print(f\"file {a} doesn't exsists\")\n",
    "else:\n",
    "    print(f\"there are {len(lines)} lines in {a} file\")"
   ]
  },
  {
   "cell_type": "code",
   "execution_count": null,
   "metadata": {},
   "outputs": [],
   "source": []
  },
  {
   "cell_type": "code",
   "execution_count": 139,
   "metadata": {},
   "outputs": [],
   "source": [
    "file_names = ['pf.txt','fg.txt','sr.txt','bh.txt']"
   ]
  },
  {
   "cell_type": "code",
   "execution_count": 141,
   "metadata": {},
   "outputs": [
    {
     "name": "stdout",
     "output_type": "stream",
     "text": [
      "There are 175 words in pf.txt file\n",
      "There are 251 words in fg.txt file\n",
      "There are 219 words in sr.txt file\n",
      "There are 279 words in bh.txt file\n"
     ]
    }
   ],
   "source": [
    "for i in file_names:\n",
    "    try:\n",
    "        with open(i) as ob:\n",
    "            s= ob.read()\n",
    "    except FileNotFoundError:\n",
    "        print(f\"file {i} doesn't exsists\")\n",
    "    else:\n",
    "        words= s.split()\n",
    "        print(f\"There are {len(words)} words in {i} file\")\n",
    "    "
   ]
  },
  {
   "cell_type": "code",
   "execution_count": null,
   "metadata": {},
   "outputs": [],
   "source": []
  },
  {
   "cell_type": "code",
   "execution_count": 142,
   "metadata": {},
   "outputs": [],
   "source": [
    "def countWords(fn):\n",
    "    try:\n",
    "        with open(fn) as ob:\n",
    "            s= ob.read()\n",
    "    except FileNotFoundError:\n",
    "        print(f\"file {fn} doesn't exsists\")\n",
    "    else:\n",
    "        words= s.split()\n",
    "        print(f\"There are {len(words)} words in {fn} file\")    "
   ]
  },
  {
   "cell_type": "code",
   "execution_count": 139,
   "metadata": {},
   "outputs": [],
   "source": [
    "file_names = ['pf.txt','fg.txt','sr.txt','bh.txt']"
   ]
  },
  {
   "cell_type": "code",
   "execution_count": 143,
   "metadata": {},
   "outputs": [
    {
     "name": "stdout",
     "output_type": "stream",
     "text": [
      "There are 175 words in pf.txt file\n",
      "There are 251 words in fg.txt file\n",
      "There are 219 words in sr.txt file\n",
      "There are 279 words in bh.txt file\n"
     ]
    }
   ],
   "source": [
    "for i in file_names:\n",
    "    countWords(i)    "
   ]
  }
 ],
 "metadata": {
  "kernelspec": {
   "display_name": "Python 3",
   "language": "python",
   "name": "python3"
  },
  "language_info": {
   "codemirror_mode": {
    "name": "ipython",
    "version": 3
   },
   "file_extension": ".py",
   "mimetype": "text/x-python",
   "name": "python",
   "nbconvert_exporter": "python",
   "pygments_lexer": "ipython3",
   "version": "3.7.6"
  }
 },
 "nbformat": 4,
 "nbformat_minor": 4
}
