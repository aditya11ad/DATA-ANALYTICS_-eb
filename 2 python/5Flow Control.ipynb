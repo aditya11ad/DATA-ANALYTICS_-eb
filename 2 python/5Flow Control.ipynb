{
 "cells": [
  {
   "cell_type": "markdown",
   "metadata": {},
   "source": [
    "# Flow Control:"
   ]
  },
  {
   "cell_type": "code",
   "execution_count": 1,
   "metadata": {},
   "outputs": [
    {
     "name": "stdout",
     "output_type": "stream",
     "text": [
      "hi\n"
     ]
    }
   ],
   "source": [
    "if True:\n",
    "    print(\"hi\")\n",
    "    "
   ]
  },
  {
   "cell_type": "code",
   "execution_count": 2,
   "metadata": {},
   "outputs": [],
   "source": [
    "if False:\n",
    "    print(\"hi\")\n",
    "    "
   ]
  },
  {
   "cell_type": "code",
   "execution_count": 4,
   "metadata": {},
   "outputs": [
    {
     "name": "stdout",
     "output_type": "stream",
     "text": [
      "hi\n"
     ]
    }
   ],
   "source": [
    "if (10>4):\n",
    "    print(\"hi\")"
   ]
  },
  {
   "cell_type": "code",
   "execution_count": 5,
   "metadata": {},
   "outputs": [],
   "source": [
    "if (10<4):\n",
    "    print(\"hi\")"
   ]
  },
  {
   "cell_type": "markdown",
   "metadata": {},
   "source": [
    "\n",
    "***"
   ]
  },
  {
   "cell_type": "code",
   "execution_count": 55,
   "metadata": {},
   "outputs": [
    {
     "name": "stdout",
     "output_type": "stream",
     "text": [
      "10\n"
     ]
    }
   ],
   "source": [
    "age=int(input())"
   ]
  },
  {
   "cell_type": "code",
   "execution_count": 18,
   "metadata": {},
   "outputs": [
    {
     "name": "stdout",
     "output_type": "stream",
     "text": [
      "u can enter\n"
     ]
    }
   ],
   "source": [
    "if (age>18):\n",
    "    print(\"u can enter\")"
   ]
  },
  {
   "cell_type": "code",
   "execution_count": 23,
   "metadata": {},
   "outputs": [
    {
     "name": "stdout",
     "output_type": "stream",
     "text": [
      "u can NOT enter\n"
     ]
    }
   ],
   "source": [
    "if (age>18):\n",
    "    print(\"u can enter\")\n",
    "else:\n",
    "    print(\"u can NOT enter\")"
   ]
  },
  {
   "cell_type": "code",
   "execution_count": 24,
   "metadata": {},
   "outputs": [],
   "source": [
    "if ((age>18) and (age<60)):\n",
    "    print(\"u can enter\")"
   ]
  },
  {
   "cell_type": "code",
   "execution_count": 33,
   "metadata": {},
   "outputs": [
    {
     "name": "stdout",
     "output_type": "stream",
     "text": [
      "u r too old to enter\n"
     ]
    }
   ],
   "source": [
    "if (age>60):\n",
    "    print(\"u r too old to enter\")\n",
    "elif(age>18):\n",
    "    print(\"u can Enter\")\n",
    "else:\n",
    "    print(\"u r too young to enter\")\n",
    "    "
   ]
  },
  {
   "cell_type": "markdown",
   "metadata": {},
   "source": [
    "### Nesting of if:"
   ]
  },
  {
   "cell_type": "code",
   "execution_count": 56,
   "metadata": {},
   "outputs": [
    {
     "name": "stdout",
     "output_type": "stream",
     "text": [
      "u r too young to enter\n"
     ]
    }
   ],
   "source": [
    "if(age>18):\n",
    "    if(age>60):\n",
    "        print('u r too old to enter')\n",
    "    else:\n",
    "        print('u can enter')\n",
    "else:\n",
    "    print('u r too young to enter')\n",
    "    "
   ]
  },
  {
   "cell_type": "code",
   "execution_count": null,
   "metadata": {},
   "outputs": [],
   "source": []
  },
  {
   "cell_type": "code",
   "execution_count": null,
   "metadata": {},
   "outputs": [],
   "source": []
  },
  {
   "cell_type": "markdown",
   "metadata": {},
   "source": [
    "### Task:"
   ]
  },
  {
   "cell_type": "code",
   "execution_count": 37,
   "metadata": {},
   "outputs": [],
   "source": [
    "sachin_age =48"
   ]
  },
  {
   "cell_type": "code",
   "execution_count": 46,
   "metadata": {},
   "outputs": [
    {
     "name": "stdout",
     "output_type": "stream",
     "text": [
      "48\n"
     ]
    }
   ],
   "source": [
    "age=int(input())"
   ]
  },
  {
   "cell_type": "code",
   "execution_count": null,
   "metadata": {},
   "outputs": [],
   "source": [
    "if(sachin_age == age):\n",
    "    print(\"u r right\")\n",
    "else:\n",
    "    print(\"u r wrong, try again\")"
   ]
  },
  {
   "cell_type": "code",
   "execution_count": 48,
   "metadata": {},
   "outputs": [
    {
     "name": "stdout",
     "output_type": "stream",
     "text": [
      "u r right\n"
     ]
    }
   ],
   "source": [
    "if(sachin_age != age):\n",
    "    print(\"u r wrong, try again\")\n",
    "else:\n",
    "    print(\"u r right\")\n",
    "    "
   ]
  },
  {
   "cell_type": "markdown",
   "metadata": {},
   "source": [
    "***\n",
    "### Task:"
   ]
  },
  {
   "cell_type": "code",
   "execution_count": 71,
   "metadata": {},
   "outputs": [
    {
     "name": "stdout",
     "output_type": "stream",
     "text": [
      "400\n"
     ]
    }
   ],
   "source": [
    "amount=int(input())"
   ]
  },
  {
   "cell_type": "code",
   "execution_count": 72,
   "metadata": {},
   "outputs": [
    {
     "name": "stdout",
     "output_type": "stream",
     "text": [
      "Discount:  0\n",
      "the net payable amount is :  400\n"
     ]
    }
   ],
   "source": [
    "if(amount>10000):\n",
    "    discount=amount*.1\n",
    "elif(amount>5000):\n",
    "    discount=amount*.05\n",
    "elif(amount>1000):\n",
    "    discount=amount*.01\n",
    "else:\n",
    "    discount=0\n",
    "\n",
    "print(\"Discount: \", discount)\n",
    "amount=amount-discount\n",
    "print(\"the net payable amount is : \", amount)\n",
    "    "
   ]
  },
  {
   "cell_type": "markdown",
   "metadata": {},
   "source": [
    "***"
   ]
  },
  {
   "cell_type": "code",
   "execution_count": 74,
   "metadata": {},
   "outputs": [],
   "source": [
    "requested_toppings= ['mushrooms','chees']"
   ]
  },
  {
   "cell_type": "code",
   "execution_count": 78,
   "metadata": {},
   "outputs": [
    {
     "name": "stdout",
     "output_type": "stream",
     "text": [
      "adding mushrooms in ur pizza\n"
     ]
    }
   ],
   "source": [
    "if 'mushrooms' in  requested_toppings:\n",
    "    print(\"adding mushrooms in ur pizza\")\n",
    "elif 'olivs' in requested_toppings:\n",
    "    print(\"adding olivs in ur pizza\")\n",
    "elif 'chees' in requested_toppings:\n",
    "    print(\"adding chees in ur pizza\")    "
   ]
  },
  {
   "cell_type": "code",
   "execution_count": 79,
   "metadata": {},
   "outputs": [
    {
     "name": "stdout",
     "output_type": "stream",
     "text": [
      "adding mushrooms in ur pizza\n",
      "adding chees in ur pizza\n"
     ]
    }
   ],
   "source": [
    "if 'mushrooms' in  requested_toppings:\n",
    "    print(\"adding mushrooms in ur pizza\")\n",
    "if 'olivs' in requested_toppings:\n",
    "    print(\"adding olivs in ur pizza\")\n",
    "if 'chees' in requested_toppings:\n",
    "    print(\"adding chees in ur pizza\")\n",
    "\n",
    "    "
   ]
  },
  {
   "attachments": {
    "image.png": {
     "image/png": "[encoded data removed]"
    }
   },
   "cell_type": "markdown",
   "metadata": {},
   "source": [
    "***\n",
    "# Loops:\n",
    "![image.png](attachment:image.png)"
   ]
  },
  {
   "cell_type": "markdown",
   "metadata": {},
   "source": [
    "#### while loop:"
   ]
  },
  {
   "cell_type": "code",
   "execution_count": 1,
   "metadata": {},
   "outputs": [
    {
     "name": "stdout",
     "output_type": "stream",
     "text": [
      "hi\n",
      "hi\n",
      "hi\n",
      "hi\n",
      "hi\n"
     ]
    }
   ],
   "source": [
    "i=1                   #initialization\n",
    "\n",
    "while (i<6):         #condition\n",
    "    print(\"hi\")      #body\n",
    "    i+=1             #increment/ decrement\n",
    "    "
   ]
  },
  {
   "cell_type": "code",
   "execution_count": 83,
   "metadata": {},
   "outputs": [
    {
     "name": "stdout",
     "output_type": "stream",
     "text": [
      "1\n",
      "2\n",
      "3\n",
      "4\n",
      "5\n"
     ]
    }
   ],
   "source": [
    "i=1                   #initialization\n",
    "\n",
    "while (i<6):         #condition\n",
    "    print(i)      #body\n",
    "    i+=1             #increment/ decrement\n",
    "    "
   ]
  },
  {
   "cell_type": "code",
   "execution_count": 86,
   "metadata": {},
   "outputs": [
    {
     "name": "stdout",
     "output_type": "stream",
     "text": [
      "5\n",
      "4\n",
      "3\n",
      "2\n",
      "1\n"
     ]
    }
   ],
   "source": [
    "i=5                  #initialization\n",
    "\n",
    "while (i>0):         #condition\n",
    "    print(i)      #body\n",
    "    i-=1             #increment/ decrement\n",
    "    "
   ]
  },
  {
   "cell_type": "markdown",
   "metadata": {},
   "source": [
    "#### for loop (for the  list)"
   ]
  },
  {
   "cell_type": "code",
   "execution_count": 87,
   "metadata": {},
   "outputs": [],
   "source": [
    "cars =[\"Audi\",\"Mercedes\",\"Ford\",\"Royals Royce\",\"Tata\",\"BMW\",'Hyundai',\"Honda\",\"Porshe\"]\n"
   ]
  },
  {
   "cell_type": "code",
   "execution_count": 88,
   "metadata": {},
   "outputs": [
    {
     "name": "stdout",
     "output_type": "stream",
     "text": [
      "Audi\n",
      "Mercedes\n",
      "Ford\n",
      "Royals Royce\n",
      "Tata\n",
      "BMW\n",
      "Hyundai\n",
      "Honda\n",
      "Porshe\n"
     ]
    }
   ],
   "source": [
    "for i in cars:\n",
    "    print(i)\n",
    "    "
   ]
  },
  {
   "cell_type": "code",
   "execution_count": 89,
   "metadata": {},
   "outputs": [],
   "source": [
    "sweets=['mesurpak','rasgulla','kalakand','gulabjamun','barfi','laddu']"
   ]
  },
  {
   "cell_type": "code",
   "execution_count": 94,
   "metadata": {},
   "outputs": [
    {
     "name": "stdout",
     "output_type": "stream",
     "text": [
      "I like mesurpak\n",
      "I like rasgulla\n",
      "I like kalakand\n",
      "I like gulabjamun\n",
      "I like barfi\n",
      "I like laddu\n"
     ]
    }
   ],
   "source": [
    "for i in sweets:\n",
    "    print(f\"I like {i}\")\n"
   ]
  },
  {
   "cell_type": "code",
   "execution_count": 91,
   "metadata": {},
   "outputs": [
    {
     "name": "stdout",
     "output_type": "stream",
     "text": [
      "I like rasgulla\n"
     ]
    }
   ],
   "source": [
    "print(f\"I like {sweets[1]}\")"
   ]
  },
  {
   "cell_type": "code",
   "execution_count": 92,
   "metadata": {},
   "outputs": [
    {
     "name": "stdout",
     "output_type": "stream",
     "text": [
      "I like kalakand\n"
     ]
    }
   ],
   "source": [
    "print(f\"I like {sweets[2]}\")"
   ]
  },
  {
   "cell_type": "code",
   "execution_count": null,
   "metadata": {},
   "outputs": [],
   "source": []
  },
  {
   "cell_type": "code",
   "execution_count": 97,
   "metadata": {},
   "outputs": [
    {
     "name": "stdout",
     "output_type": "stream",
     "text": [
      "adding mushrooms in ur pizza\n",
      "adding chees in ur pizza\n"
     ]
    }
   ],
   "source": [
    "if 'mushrooms' in  requested_toppings:\n",
    "    print(\"adding mushrooms in ur pizza\")\n",
    "if 'olivs' in requested_toppings:\n",
    "    print(\"adding olivs in ur pizza\")\n",
    "if 'chees' in requested_toppings:\n",
    "    print(\"adding chees in ur pizza\")\n",
    "\n",
    "    "
   ]
  },
  {
   "cell_type": "code",
   "execution_count": null,
   "metadata": {},
   "outputs": [],
   "source": []
  },
  {
   "cell_type": "code",
   "execution_count": null,
   "metadata": {},
   "outputs": [],
   "source": [
    "available_toppings=['ovions','tomato','mushrooms', 'corns','pepper','chees']\n"
   ]
  },
  {
   "cell_type": "code",
   "execution_count": 102,
   "metadata": {},
   "outputs": [],
   "source": [
    "requested_toppings= ['mushrooms','chees', 'corns']"
   ]
  },
  {
   "cell_type": "code",
   "execution_count": 103,
   "metadata": {},
   "outputs": [
    {
     "name": "stdout",
     "output_type": "stream",
     "text": [
      "adding mushrooms in ur pizza\n",
      "adding chees in ur pizza\n",
      "adding corns in ur pizza\n"
     ]
    }
   ],
   "source": [
    "for i in requested_toppings :\n",
    "        print(f\"adding {i} in ur pizza\")"
   ]
  },
  {
   "cell_type": "code",
   "execution_count": null,
   "metadata": {},
   "outputs": [],
   "source": []
  },
  {
   "cell_type": "code",
   "execution_count": 106,
   "metadata": {},
   "outputs": [
    {
     "name": "stdout",
     "output_type": "stream",
     "text": [
      "adding mushrooms in ur pizza\n",
      "adding chees in ur pizza\n",
      "we r out of corn today, sorry\n"
     ]
    }
   ],
   "source": [
    "#out of corns:\n",
    "for i in requested_toppings :\n",
    "    if (i=='corns'):\n",
    "        print(\"we r out of corn today, sorry\")\n",
    "    else:\n",
    "        print(f\"adding {i} in ur pizza\")"
   ]
  },
  {
   "cell_type": "code",
   "execution_count": null,
   "metadata": {},
   "outputs": [],
   "source": []
  },
  {
   "cell_type": "code",
   "execution_count": null,
   "metadata": {},
   "outputs": [],
   "source": [
    "available_toppings=['olions','tomato','mushrooms', 'corns','pepper','chees']"
   ]
  },
  {
   "cell_type": "code",
   "execution_count": 126,
   "metadata": {},
   "outputs": [],
   "source": [
    "requested_toppings= ['mushrooms','chees', 'paneer','corns']"
   ]
  },
  {
   "cell_type": "code",
   "execution_count": 129,
   "metadata": {},
   "outputs": [
    {
     "name": "stdout",
     "output_type": "stream",
     "text": [
      "adding mushrooms in ur pizza\n",
      "adding chees in ur pizza\n",
      "we r out of paneer--------\n",
      "adding corns in ur pizza\n",
      "\n",
      "preparing ur pizza, plz wait\n"
     ]
    }
   ],
   "source": [
    "for i in requested_toppings:\n",
    "    if i in available_toppings:\n",
    "        print(f\"adding {i} in ur pizza\")\n",
    "    else:\n",
    "        print(f\"we r out of {i}--------\")\n",
    "print(\"\\npreparing ur pizza, plz wait\")   \n"
   ]
  },
  {
   "cell_type": "code",
   "execution_count": null,
   "metadata": {},
   "outputs": [],
   "source": []
  },
  {
   "cell_type": "code",
   "execution_count": 130,
   "metadata": {},
   "outputs": [],
   "source": [
    "requested_toppings= []"
   ]
  },
  {
   "cell_type": "code",
   "execution_count": 131,
   "metadata": {},
   "outputs": [
    {
     "name": "stdout",
     "output_type": "stream",
     "text": [
      "its a plain pizaa\n",
      "\n",
      "preparing ur pizza, plz wait\n"
     ]
    }
   ],
   "source": [
    "if requested_toppings:\n",
    "    for i in requested_toppings:\n",
    "        if i in available_toppings:\n",
    "            print(f\"adding {i} in ur pizza\")\n",
    "        else:\n",
    "            print(f\"we r out of {i}--------\")\n",
    "else:\n",
    "    print(\"its a plain pizaa\")\n",
    "print(\"\\npreparing ur pizza, plz wait\")   \n"
   ]
  },
  {
   "cell_type": "code",
   "execution_count": null,
   "metadata": {},
   "outputs": [],
   "source": []
  },
  {
   "cell_type": "code",
   "execution_count": 4,
   "metadata": {},
   "outputs": [
    {
     "data": {
      "text/plain": [
       "range(0, 5)"
      ]
     },
     "execution_count": 4,
     "metadata": {},
     "output_type": "execute_result"
    }
   ],
   "source": [
    "range(5)"
   ]
  },
  {
   "cell_type": "code",
   "execution_count": 5,
   "metadata": {},
   "outputs": [
    {
     "data": {
      "text/plain": [
       "[0, 1, 2, 3, 4]"
      ]
     },
     "execution_count": 5,
     "metadata": {},
     "output_type": "execute_result"
    }
   ],
   "source": [
    "list(range(5))"
   ]
  },
  {
   "cell_type": "code",
   "execution_count": 6,
   "metadata": {},
   "outputs": [
    {
     "data": {
      "text/plain": [
       "[3, 4, 5, 6, 7, 8, 9, 10, 11, 12, 13, 14]"
      ]
     },
     "execution_count": 6,
     "metadata": {},
     "output_type": "execute_result"
    }
   ],
   "source": [
    "list(range(3,15))"
   ]
  },
  {
   "cell_type": "code",
   "execution_count": 7,
   "metadata": {},
   "outputs": [
    {
     "data": {
      "text/plain": [
       "[3, 5, 7, 9, 11, 13]"
      ]
     },
     "execution_count": 7,
     "metadata": {},
     "output_type": "execute_result"
    }
   ],
   "source": [
    "list(range(3,15,2))"
   ]
  },
  {
   "cell_type": "code",
   "execution_count": null,
   "metadata": {},
   "outputs": [],
   "source": []
  },
  {
   "cell_type": "code",
   "execution_count": 14,
   "metadata": {},
   "outputs": [
    {
     "name": "stdout",
     "output_type": "stream",
     "text": [
      "hi\n",
      "hi\n",
      "hi\n",
      "hi\n",
      "hi\n"
     ]
    }
   ],
   "source": [
    "for i in range(0,5):\n",
    "    print(\"hi\")"
   ]
  },
  {
   "cell_type": "code",
   "execution_count": 41,
   "metadata": {},
   "outputs": [
    {
     "name": "stdout",
     "output_type": "stream",
     "text": [
      "number  0\n",
      "number  1\n",
      "number  2\n",
      "number  3\n",
      "number  4\n"
     ]
    }
   ],
   "source": [
    "for i in range(0,5):\n",
    "    print(\"number \", i)"
   ]
  },
  {
   "cell_type": "code",
   "execution_count": 46,
   "metadata": {},
   "outputs": [
    {
     "name": "stdout",
     "output_type": "stream",
     "text": [
      "number  5\n",
      "number  4\n",
      "number  3\n",
      "number  2\n",
      "number  1\n"
     ]
    }
   ],
   "source": [
    "for i in range(5,0,-1):\n",
    "    print(\"number \", i)"
   ]
  },
  {
   "cell_type": "code",
   "execution_count": 47,
   "metadata": {},
   "outputs": [
    {
     "name": "stdout",
     "output_type": "stream",
     "text": [
      "number  20\n",
      "number  18\n",
      "number  16\n",
      "number  14\n",
      "number  12\n",
      "number  10\n",
      "number  8\n",
      "number  6\n",
      "number  4\n",
      "number  2\n"
     ]
    }
   ],
   "source": [
    "for i in range(20,0,-2):\n",
    "    print(\"number \", i)"
   ]
  },
  {
   "cell_type": "code",
   "execution_count": 115,
   "metadata": {},
   "outputs": [],
   "source": [
    "sweets=['mesurpak','rasgulla','kalakand','gulabjamun','barfi','laddu','jalebi']"
   ]
  },
  {
   "cell_type": "code",
   "execution_count": 117,
   "metadata": {},
   "outputs": [
    {
     "name": "stdout",
     "output_type": "stream",
     "text": [
      "i like mesurpak\n",
      "i like rasgulla\n",
      "i like kalakand\n",
      "i like gulabjamun\n",
      "i like barfi\n",
      "i like laddu\n",
      "i like jalebi\n"
     ]
    }
   ],
   "source": [
    "for i in sweets:\n",
    "    print(f\"i like {i}\")"
   ]
  },
  {
   "cell_type": "code",
   "execution_count": 121,
   "metadata": {},
   "outputs": [
    {
     "name": "stdout",
     "output_type": "stream",
     "text": [
      "i like mesurpak\n",
      "i like rasgulla\n",
      "i like kalakand\n",
      "i like gulabjamun\n",
      "i like barfi\n",
      "i like laddu\n",
      "i like jalebi\n"
     ]
    }
   ],
   "source": [
    "for i in range(0,len(sweets)):\n",
    "    print(f\"i like {sweets[i]}\")"
   ]
  },
  {
   "cell_type": "markdown",
   "metadata": {},
   "source": [
    "#### Even numbers:"
   ]
  },
  {
   "cell_type": "code",
   "execution_count": 70,
   "metadata": {},
   "outputs": [
    {
     "name": "stdout",
     "output_type": "stream",
     "text": [
      "1\n",
      "2\n",
      "3\n",
      "4\n",
      "5\n",
      "6\n",
      "7\n",
      "8\n",
      "9\n",
      "10\n",
      "11\n",
      "12\n",
      "13\n",
      "14\n",
      "15\n",
      "16\n",
      "17\n",
      "18\n",
      "19\n",
      "20\n"
     ]
    }
   ],
   "source": [
    "for i in range(1,21):\n",
    "        print(i)"
   ]
  },
  {
   "cell_type": "code",
   "execution_count": 69,
   "metadata": {},
   "outputs": [
    {
     "name": "stdout",
     "output_type": "stream",
     "text": [
      "2\n",
      "4\n",
      "6\n",
      "8\n",
      "10\n",
      "12\n",
      "14\n",
      "16\n",
      "18\n",
      "20\n"
     ]
    }
   ],
   "source": [
    "for i in range(1,21):\n",
    "    if (i%2==0):\n",
    "        print(i)"
   ]
  },
  {
   "cell_type": "code",
   "execution_count": 71,
   "metadata": {},
   "outputs": [
    {
     "name": "stdout",
     "output_type": "stream",
     "text": [
      "1\n",
      "3\n",
      "5\n",
      "7\n",
      "9\n",
      "11\n",
      "13\n",
      "15\n",
      "17\n",
      "19\n"
     ]
    }
   ],
   "source": [
    "for i in range(1,21):\n",
    "    if (i%2!=0):\n",
    "        print(i)"
   ]
  },
  {
   "cell_type": "markdown",
   "metadata": {},
   "source": [
    "### Nested Loops:"
   ]
  },
  {
   "cell_type": "code",
   "execution_count": null,
   "metadata": {},
   "outputs": [],
   "source": []
  },
  {
   "cell_type": "code",
   "execution_count": 84,
   "metadata": {},
   "outputs": [
    {
     "name": "stdout",
     "output_type": "stream",
     "text": [
      "Outer 0\n",
      "Inner Inner Inner Inner Inner \n",
      "\n",
      "Outer 1\n",
      "Inner Inner Inner Inner Inner \n",
      "\n",
      "Outer 2\n",
      "Inner Inner Inner Inner Inner \n",
      "\n",
      "Outer 3\n",
      "Inner Inner Inner Inner Inner \n",
      "\n",
      "Outer 4\n",
      "Inner Inner Inner Inner Inner \n",
      "\n",
      "Outer 5\n",
      "Inner Inner Inner Inner Inner \n",
      "\n",
      "Outer 6\n",
      "Inner Inner Inner Inner Inner \n",
      "\n",
      "Outer 7\n",
      "Inner Inner Inner Inner Inner \n",
      "\n",
      "Outer 8\n",
      "Inner Inner Inner Inner Inner \n",
      "\n",
      "Outer 9\n",
      "Inner Inner Inner Inner Inner \n",
      "\n"
     ]
    }
   ],
   "source": [
    "for i in range(10):\n",
    "    print(\"Outer\",i )\n",
    "    for j in range(5):\n",
    "        print(\"Inner\", end=\" \")\n",
    "    print(\"\\n\")"
   ]
  },
  {
   "cell_type": "code",
   "execution_count": 91,
   "metadata": {},
   "outputs": [
    {
     "name": "stdout",
     "output_type": "stream",
     "text": [
      "0 0 \t0 1 \t0 2 \t0 3 \t0 4 \t\n",
      "\n",
      "1 0 \t1 1 \t1 2 \t1 3 \t1 4 \t\n",
      "\n",
      "2 0 \t2 1 \t2 2 \t2 3 \t2 4 \t\n",
      "\n",
      "3 0 \t3 1 \t3 2 \t3 3 \t3 4 \t\n",
      "\n",
      "4 0 \t4 1 \t4 2 \t4 3 \t4 4 \t\n",
      "\n",
      "5 0 \t5 1 \t5 2 \t5 3 \t5 4 \t\n",
      "\n",
      "6 0 \t6 1 \t6 2 \t6 3 \t6 4 \t\n",
      "\n",
      "7 0 \t7 1 \t7 2 \t7 3 \t7 4 \t\n",
      "\n",
      "8 0 \t8 1 \t8 2 \t8 3 \t8 4 \t\n",
      "\n",
      "9 0 \t9 1 \t9 2 \t9 3 \t9 4 \t\n",
      "\n"
     ]
    }
   ],
   "source": [
    "for i in range(10):\n",
    "    for j in range(5):\n",
    "        print(i, j ,\"\\t\", end=\"\")\n",
    "    print(\"\\n\")"
   ]
  },
  {
   "cell_type": "code",
   "execution_count": 171,
   "metadata": {},
   "outputs": [
    {
     "name": "stdout",
     "output_type": "stream",
     "text": [
      "i= 1 \tj= 1  j= 2  j= 3  j= 4  j= 5  \n",
      "\n",
      "i= 2 \tj= 1  j= 2  j= 3  j= 4  j= 5  \n",
      "\n",
      "i= 3 \tj= 1  j= 2  j= 3  j= 4  j= 5  \n",
      "\n",
      "i= 4 \tj= 1  j= 2  j= 3  j= 4  j= 5  \n",
      "\n",
      "i= 5 \tj= 1  j= 2  j= 3  j= 4  j= 5  \n",
      "\n",
      "i= 6 \tj= 1  j= 2  j= 3  j= 4  j= 5  \n",
      "\n",
      "i= 7 \tj= 1  j= 2  j= 3  j= 4  j= 5  \n",
      "\n",
      "i= 8 \tj= 1  j= 2  j= 3  j= 4  j= 5  \n",
      "\n",
      "i= 9 \tj= 1  j= 2  j= 3  j= 4  j= 5  \n",
      "\n",
      "i= 10 \tj= 1  j= 2  j= 3  j= 4  j= 5  \n",
      "\n"
     ]
    }
   ],
   "source": [
    "for i in range(1,11):\n",
    "    print(\"i=\",i,\"\\t\", end=\"\")\n",
    "    for j in range(1,6):\n",
    "        print(\"j=\", j , end=\"  \")\n",
    "    print(\"\\n\")"
   ]
  },
  {
   "cell_type": "code",
   "execution_count": 101,
   "metadata": {},
   "outputs": [
    {
     "name": "stdout",
     "output_type": "stream",
     "text": [
      "2 \t 2 4 6 8 10 12 14 16 18 20 \n",
      "\n",
      "3 \t 3 6 9 12 15 18 21 24 27 30 \n",
      "\n",
      "4 \t 4 8 12 16 20 24 28 32 36 40 \n",
      "\n",
      "5 \t 5 10 15 20 25 30 35 40 45 50 \n",
      "\n",
      "6 \t 6 12 18 24 30 36 42 48 54 60 \n",
      "\n",
      "7 \t 7 14 21 28 35 42 49 56 63 70 \n",
      "\n",
      "8 \t 8 16 24 32 40 48 56 64 72 80 \n",
      "\n"
     ]
    }
   ],
   "source": [
    "for i in range(2,9):\n",
    "    print(i, \"\\t\",end=\" \")\n",
    "    for j in range(1,11):\n",
    "        print(i*j , end=\" \")\n",
    "    print(\"\\n\")\n"
   ]
  },
  {
   "cell_type": "code",
   "execution_count": null,
   "metadata": {},
   "outputs": [],
   "source": []
  },
  {
   "cell_type": "code",
   "execution_count": 177,
   "metadata": {},
   "outputs": [
    {
     "name": "stdout",
     "output_type": "stream",
     "text": [
      "* * * * * * * * * * \n",
      "\n",
      "* * * * * * * * * * \n",
      "\n",
      "* * * * * * * * * * \n",
      "\n",
      "* * * * * * * * * * \n",
      "\n",
      "* * * * * * * * * * \n",
      "\n",
      "* * * * * * * * * * \n",
      "\n",
      "* * * * * * * * * * \n",
      "\n",
      "* * * * * * * * * * \n",
      "\n",
      "* * * * * * * * * * \n",
      "\n",
      "* * * * * * * * * * \n",
      "\n"
     ]
    }
   ],
   "source": [
    "for i in range(1,11):\n",
    "    for j in range(1,11):\n",
    "        print(\"*\",end=\" \")\n",
    "    print(\"\\n\")\n",
    "    "
   ]
  },
  {
   "cell_type": "code",
   "execution_count": 108,
   "metadata": {},
   "outputs": [
    {
     "name": "stdout",
     "output_type": "stream",
     "text": [
      "\n",
      "\n",
      "* \n",
      "\n",
      "* * \n",
      "\n",
      "* * * \n",
      "\n",
      "* * * * \n",
      "\n",
      "* * * * * \n",
      "\n",
      "* * * * * * \n",
      "\n",
      "* * * * * * * \n",
      "\n",
      "* * * * * * * * \n",
      "\n",
      "* * * * * * * * * \n",
      "\n"
     ]
    }
   ],
   "source": [
    "for i in range(1,11):\n",
    "    for j in range(1,i):    \n",
    "        print(\"*\", end=\" \")\n",
    "    print(\"\\n\")"
   ]
  },
  {
   "cell_type": "code",
   "execution_count": 112,
   "metadata": {},
   "outputs": [
    {
     "name": "stdout",
     "output_type": "stream",
     "text": [
      "* * * * * * * * * * \n",
      "\n",
      "* * * * * * * * * \n",
      "\n",
      "* * * * * * * * \n",
      "\n",
      "* * * * * * * \n",
      "\n",
      "* * * * * * \n",
      "\n",
      "* * * * * \n",
      "\n",
      "* * * * \n",
      "\n",
      "* * * \n",
      "\n",
      "* * \n",
      "\n",
      "* \n",
      "\n"
     ]
    }
   ],
   "source": [
    "for i in range(1,11):\n",
    "    for j in range(i,11):    \n",
    "        print(\"*\", end=\" \")\n",
    "    print(\"\\n\")"
   ]
  },
  {
   "cell_type": "code",
   "execution_count": 114,
   "metadata": {},
   "outputs": [
    {
     "name": "stdout",
     "output_type": "stream",
     "text": [
      "* * * * * * * * * * \n",
      "\n",
      "* * * * * * * * * \n",
      "\n",
      "* * * * * * * * \n",
      "\n",
      "* * * * * * * \n",
      "\n",
      "* * * * * * \n",
      "\n",
      "* * * * * \n",
      "\n",
      "* * * * \n",
      "\n",
      "* * * \n",
      "\n",
      "* * \n",
      "\n",
      "* \n",
      "\n"
     ]
    }
   ],
   "source": [
    "#or \n",
    "for i in range(11,1,-1):\n",
    "    for j in range(1,i):    \n",
    "        print(\"*\", end=\" \")\n",
    "    print(\"\\n\")"
   ]
  },
  {
   "attachments": {
    "image.png": {
     "image/png": "[encoded data removed]"
    }
   },
   "cell_type": "markdown",
   "metadata": {},
   "source": [
    "#### Break :\n",
    "<div>\n",
    "    <img src=attachment:image.png width=370/>\n",
    "    </div>"
   ]
  },
  {
   "cell_type": "code",
   "execution_count": 124,
   "metadata": {},
   "outputs": [
    {
     "name": "stdout",
     "output_type": "stream",
     "text": [
      "0\n",
      "1\n",
      "2\n",
      "3\n",
      "4\n",
      "5\n",
      "6\n",
      "7\n",
      "8\n",
      "9\n"
     ]
    }
   ],
   "source": [
    "for i in range(0,10):\n",
    "    print(i)"
   ]
  },
  {
   "cell_type": "code",
   "execution_count": 125,
   "metadata": {},
   "outputs": [
    {
     "name": "stdout",
     "output_type": "stream",
     "text": [
      "0\n",
      "1\n",
      "2\n",
      "3\n",
      "4\n"
     ]
    }
   ],
   "source": [
    "for i in range(0,10):\n",
    "    if(i==5):\n",
    "        break\n",
    "    print(i)"
   ]
  },
  {
   "cell_type": "code",
   "execution_count": 133,
   "metadata": {},
   "outputs": [
    {
     "name": "stdout",
     "output_type": "stream",
     "text": [
      "a\n",
      "d\n",
      "i\n",
      "t\n",
      "y\n",
      "a\n"
     ]
    }
   ],
   "source": [
    "for x in \"aditya\":\n",
    "    print(x)"
   ]
  },
  {
   "cell_type": "code",
   "execution_count": 140,
   "metadata": {},
   "outputs": [
    {
     "name": "stdout",
     "output_type": "stream",
     "text": [
      "a\n",
      "d\n"
     ]
    }
   ],
   "source": [
    "for x in \"aditya\":\n",
    "    if(x=='i'):\n",
    "        break\n",
    "    print(x)"
   ]
  },
  {
   "attachments": {
    "image.png": {
     "image/png": "[encoded data removed]"
    }
   },
   "cell_type": "markdown",
   "metadata": {},
   "source": [
    "### Continue:\n",
    "![image.png](attachment:image.png)"
   ]
  },
  {
   "cell_type": "code",
   "execution_count": null,
   "metadata": {},
   "outputs": [],
   "source": []
  },
  {
   "cell_type": "code",
   "execution_count": 142,
   "metadata": {},
   "outputs": [
    {
     "name": "stdout",
     "output_type": "stream",
     "text": [
      "0\n",
      "1\n",
      "2\n",
      "3\n",
      "4\n",
      "6\n",
      "7\n",
      "8\n",
      "9\n"
     ]
    }
   ],
   "source": [
    "for i in range(0,10):\n",
    "    if(i==5):\n",
    "        continue    \n",
    "    print(i)"
   ]
  },
  {
   "cell_type": "code",
   "execution_count": 151,
   "metadata": {},
   "outputs": [
    {
     "name": "stdout",
     "output_type": "stream",
     "text": [
      "hi 0\n",
      "hi 1\n",
      "hi 2\n",
      "hi 3\n",
      "hi 4\n",
      "hi hi hi hi hi "
     ]
    }
   ],
   "source": [
    "for i in range(0,10):\n",
    "    print(\"hi\", end=\" \")\n",
    "    if(i>=5):\n",
    "        continue    \n",
    "    print(i)"
   ]
  },
  {
   "cell_type": "code",
   "execution_count": 152,
   "metadata": {},
   "outputs": [
    {
     "name": "stdout",
     "output_type": "stream",
     "text": [
      "hi 0\n",
      "hi 1\n",
      "hi 2\n",
      "hi 3\n",
      "hi 4\n",
      "hi "
     ]
    }
   ],
   "source": [
    "for i in range(0,10):\n",
    "    print(\"hi\", end=\" \")\n",
    "    if(i>=5):\n",
    "        break    \n",
    "    print(i)"
   ]
  },
  {
   "cell_type": "code",
   "execution_count": null,
   "metadata": {},
   "outputs": [],
   "source": []
  },
  {
   "cell_type": "markdown",
   "metadata": {},
   "source": [
    "#### Pass:"
   ]
  },
  {
   "cell_type": "code",
   "execution_count": 158,
   "metadata": {},
   "outputs": [
    {
     "name": "stdout",
     "output_type": "stream",
     "text": [
      "0\n",
      "1\n",
      "2\n",
      "3\n",
      "4\n",
      "5\n",
      "6\n",
      "7\n",
      "8\n",
      "9\n"
     ]
    }
   ],
   "source": [
    "for i in range(0,10):\n",
    "    if(i==5):\n",
    "        pass\n",
    "    print(i)"
   ]
  },
  {
   "attachments": {
    "image.png": {
     "image/png": "[encoded data removed]"
    }
   },
   "cell_type": "markdown",
   "metadata": {},
   "source": [
    "![image.png](attachment:image.png)"
   ]
  },
  {
   "cell_type": "code",
   "execution_count": 179,
   "metadata": {},
   "outputs": [
    {
     "name": "stdout",
     "output_type": "stream",
     "text": [
      "25\n",
      "64\n",
      "121\n",
      "196\n"
     ]
    }
   ],
   "source": [
    "x=5\n",
    "while(x<15):\n",
    "  print(x**2)\n",
    "  x+=3"
   ]
  },
  {
   "attachments": {
    "image.png": {
     "image/png": "[encoded data removed]"
    }
   },
   "cell_type": "markdown",
   "metadata": {},
   "source": [
    "![image.png](attachment:image.png)"
   ]
  },
  {
   "cell_type": "code",
   "execution_count": null,
   "metadata": {},
   "outputs": [],
   "source": []
  },
  {
   "attachments": {
    "image.png": {
     "image/png": "[encoded data removed]"
    }
   },
   "cell_type": "markdown",
   "metadata": {},
   "source": [
    "![image.png](attachment:image.png)"
   ]
  },
  {
   "cell_type": "code",
   "execution_count": null,
   "metadata": {},
   "outputs": [],
   "source": []
  },
  {
   "cell_type": "markdown",
   "metadata": {},
   "source": [
    "##### the Ordinary Way:"
   ]
  },
  {
   "cell_type": "code",
   "execution_count": 12,
   "metadata": {},
   "outputs": [
    {
     "data": {
      "text/plain": [
       "[1, 4, 9, 16, 25]"
      ]
     },
     "execution_count": 12,
     "metadata": {},
     "output_type": "execute_result"
    }
   ],
   "source": [
    "l=[]\n",
    "\n",
    "for i in range(1,6):\n",
    "    l.append(i**2)\n",
    "\n",
    "l"
   ]
  },
  {
   "cell_type": "markdown",
   "metadata": {},
   "source": [
    "### Or"
   ]
  },
  {
   "cell_type": "markdown",
   "metadata": {},
   "source": [
    "### List Comprehension Way:"
   ]
  },
  {
   "cell_type": "code",
   "execution_count": 13,
   "metadata": {},
   "outputs": [
    {
     "data": {
      "text/plain": [
       "[1, 4, 9, 16, 25]"
      ]
     },
     "execution_count": 13,
     "metadata": {},
     "output_type": "execute_result"
    }
   ],
   "source": [
    "l2= [ i**2 for i in range(1,6)]\n",
    "l2"
   ]
  },
  {
   "cell_type": "code",
   "execution_count": null,
   "metadata": {},
   "outputs": [],
   "source": []
  }
 ],
 "metadata": {
  "kernelspec": {
   "display_name": "Python 3",
   "language": "python",
   "name": "python3"
  },
  "language_info": {
   "codemirror_mode": {
    "name": "ipython",
    "version": 3
   },
   "file_extension": ".py",
   "mimetype": "text/x-python",
   "name": "python",
   "nbconvert_exporter": "python",
   "pygments_lexer": "ipython3",
   "version": "3.7.6"
  }
 },
 "nbformat": 4,
 "nbformat_minor": 4
}
