{
 "cells": [
  {
   "cell_type": "markdown",
   "metadata": {},
   "source": [
    "## Loops:"
   ]
  },
  {
   "cell_type": "markdown",
   "metadata": {},
   "source": [
    "##### While Loop:"
   ]
  },
  {
   "cell_type": "code",
   "execution_count": 1,
   "metadata": {},
   "outputs": [
    {
     "name": "stdout",
     "output_type": "stream",
     "text": [
      "1-hi\n",
      "2-hi\n",
      "3-hi\n",
      "4-hi\n",
      "5-hi\n",
      "6-hi\n",
      "7-hi\n",
      "8-hi\n",
      "9-hi\n",
      "10-hi\n",
      "11-hi\n"
     ]
    }
   ],
   "source": [
    "i = 1                   # Initialization\n",
    "\n",
    "while (i<12):           # Condition\n",
    "    print(f\"{i}-hi\")    # Body\n",
    "    i += 1              # Increament/ Decreament"
   ]
  },
  {
   "cell_type": "code",
   "execution_count": 2,
   "metadata": {},
   "outputs": [
    {
     "name": "stdout",
     "output_type": "stream",
     "text": [
      "6\n",
      "5\n",
      "4\n",
      "3\n",
      "2\n",
      "1\n"
     ]
    }
   ],
   "source": [
    "i = 6                   # Initialization\n",
    "\n",
    "while (i>0):           # Condition\n",
    "    print(i)    # Body\n",
    "    i -= 1   "
   ]
  },
  {
   "cell_type": "markdown",
   "metadata": {},
   "source": [
    "##### For Loop:"
   ]
  },
  {
   "cell_type": "code",
   "execution_count": 3,
   "metadata": {},
   "outputs": [],
   "source": [
    "cars =['Audi',\n",
    " 'Mercedes',\n",
    " 'Maruti',\n",
    " 'ferrari',\n",
    " 'Royals Royce',\n",
    " 'Tata',\n",
    " 'BMW',\n",
    " 'Hyundai',\n",
    " 'Honda',\n",
    " 'Porshe',\n",
    " 'mahindra']"
   ]
  },
  {
   "cell_type": "code",
   "execution_count": 4,
   "metadata": {},
   "outputs": [
    {
     "name": "stdout",
     "output_type": "stream",
     "text": [
      "Audi\n",
      "Mercedes\n",
      "Maruti\n",
      "ferrari\n",
      "Royals Royce\n",
      "Tata\n",
      "BMW\n",
      "Hyundai\n",
      "Honda\n",
      "Porshe\n",
      "mahindra\n"
     ]
    }
   ],
   "source": [
    "for i in cars:\n",
    "    print(i)"
   ]
  },
  {
   "cell_type": "code",
   "execution_count": 5,
   "metadata": {},
   "outputs": [],
   "source": [
    "sweets=['mesurpak','rasgulla','kalakand','gulabjamun','barfi','laddu']"
   ]
  },
  {
   "cell_type": "code",
   "execution_count": 6,
   "metadata": {},
   "outputs": [
    {
     "name": "stdout",
     "output_type": "stream",
     "text": [
      "I like mesurpak\n",
      "I like rasgulla\n",
      "I like kalakand\n",
      "I like gulabjamun\n",
      "I like barfi\n",
      "I like laddu\n"
     ]
    }
   ],
   "source": [
    "for i in sweets:\n",
    "    print(f\"I like {i}\")"
   ]
  },
  {
   "cell_type": "code",
   "execution_count": 7,
   "metadata": {},
   "outputs": [],
   "source": [
    "requested_toppings = ['mushrooms','cheese']"
   ]
  },
  {
   "cell_type": "code",
   "execution_count": 9,
   "metadata": {},
   "outputs": [],
   "source": [
    "available_toppings = ['onion','tomato','mushrooms','olive','corn','pepper','cheese']"
   ]
  },
  {
   "cell_type": "code",
   "execution_count": 11,
   "metadata": {},
   "outputs": [
    {
     "name": "stdout",
     "output_type": "stream",
     "text": [
      "adding mushrooms to your pizza\n",
      "adding cheese to your pizza\n"
     ]
    }
   ],
   "source": [
    "for i in requested_toppings:\n",
    "    if i in requested_toppings:\n",
    "        print(f\"adding {i} to your pizza\" )"
   ]
  },
  {
   "cell_type": "code",
   "execution_count": 12,
   "metadata": {},
   "outputs": [
    {
     "name": "stdout",
     "output_type": "stream",
     "text": [
      "adding mushrooms to your pizza\n",
      "adding cheese to your pizza\n"
     ]
    }
   ],
   "source": [
    "for i in requested_toppings:\n",
    "    if i in available_toppings:\n",
    "        print(f\"adding {i} to your pizza\" )"
   ]
  },
  {
   "cell_type": "code",
   "execution_count": 15,
   "metadata": {},
   "outputs": [
    {
     "name": "stdout",
     "output_type": "stream",
     "text": [
      "adding mushrooms to your pizza\n",
      "adding cheese to your pizza\n"
     ]
    }
   ],
   "source": [
    "# Out of corn:\n",
    "for i in requested_toppings:\n",
    "    if (i=='corn'):\n",
    "        print(\"we are out of corn today, sorry\")\n",
    "    else:\n",
    "        print(f\"adding {i} to your pizza\" )"
   ]
  },
  {
   "cell_type": "code",
   "execution_count": null,
   "metadata": {},
   "outputs": [],
   "source": []
  },
  {
   "cell_type": "code",
   "execution_count": 19,
   "metadata": {},
   "outputs": [],
   "source": [
    "available_toppings = ['onion','tomato','mushrooms','olive','corn','pepper','cheese']\n",
    "\n",
    "\n",
    "requested_toppings = ['mushrooms','cheese','paneer','corn']"
   ]
  },
  {
   "cell_type": "code",
   "execution_count": 22,
   "metadata": {},
   "outputs": [
    {
     "name": "stdout",
     "output_type": "stream",
     "text": [
      "adding mushrooms to your pizza\n",
      "adding cheese to your pizza\n",
      "we are out of paneer for your pizza\n",
      "adding corn to your pizza\n"
     ]
    }
   ],
   "source": [
    "for i in requested_toppings:\n",
    "    if i in available_toppings:\n",
    "        print(f\"adding {i} to your pizza\" )\n",
    "    else:\n",
    "        print(f\"we are out of {i} for your pizza\" )"
   ]
  },
  {
   "cell_type": "markdown",
   "metadata": {},
   "source": [
    "### Pizza Place Scenario:"
   ]
  },
  {
   "cell_type": "code",
   "execution_count": 1,
   "metadata": {},
   "outputs": [
    {
     "name": "stdout",
     "output_type": "stream",
     "text": [
      "Which toppings do you want to have: onion\n",
      "adding onion to your pizza!!\n",
      "Pizza with onion toppings will be served in 15 min\n"
     ]
    }
   ],
   "source": [
    "available_toppings = ['onion','tomato','mushrooms','olive','corn','pepper','cheese']\n",
    "req = input(\"Which toppings do you want to have: \")\n",
    "j = \"\"\n",
    "x = []\n",
    "y = \"\"\n",
    "if req.split() == []:\n",
    "    while (j != \"No\"):\n",
    "        plain = input(\"Do you want a plain pizza? (Y or N): \")\n",
    "        if plain.upper() == 'Y':\n",
    "            print(\"Plain pizza will be served in 15 min\")\n",
    "            j = \"No\"\n",
    "        else:\n",
    "            another = input(\"Which topping do you want: \")\n",
    "            for i in another.split():\n",
    "                if i in available_toppings:\n",
    "                    print(f\"adding {i} to your pizza!!\" )\n",
    "                    x.append(i)\n",
    "                    y = ','.join(x)\n",
    "                else:\n",
    "                    print(f\"we are out of {i} for your pizza,sorry!!\" )\n",
    "            print(f\"Pizza with {y} toppings will be served in 15 min\")\n",
    "            j = \"No\"\n",
    "else:\n",
    "    for i in req.split():\n",
    "        if i in available_toppings:\n",
    "            print(f\"adding {i} to your pizza!!\" )\n",
    "            x.append(i)\n",
    "            y =','.join(x)\n",
    "        else:\n",
    "            print(f\"we are out of {i} for your pizza,sorry!!\" )\n",
    "    print(f\"Pizza with {y} toppings will be served in 15 min\")"
   ]
  },
  {
   "cell_type": "code",
   "execution_count": null,
   "metadata": {},
   "outputs": [],
   "source": []
  }
 ],
 "metadata": {
  "kernelspec": {
   "display_name": "Python 3",
   "language": "python",
   "name": "python3"
  },
  "language_info": {
   "codemirror_mode": {
    "name": "ipython",
    "version": 3
   },
   "file_extension": ".py",
   "mimetype": "text/x-python",
   "name": "python",
   "nbconvert_exporter": "python",
   "pygments_lexer": "ipython3",
   "version": "3.7.6"
  }
 },
 "nbformat": 4,
 "nbformat_minor": 5
}
